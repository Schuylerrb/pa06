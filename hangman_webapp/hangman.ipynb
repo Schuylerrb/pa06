{
 "cells": [
  {
   "cell_type": "markdown",
   "metadata": {},
   "source": [
    "# Hangman notes\n",
    "Your hangman homework has a number of different ways it can be completed. If you are having trouble completing it, you can use this notebook to guide you to a solution.\n",
    "\n",
    "## Describe the Algorithm\n",
    "Usually when we start writing a program we decide how we want the program to work. This is called the algorithm underlying the program.\n",
    "\n",
    "For hangman it might be something like this.\n",
    "\n",
    "1. Ask if they want to play a game, if not then return\n",
    "2. Generate a random word (w)\n",
    "   Also initialize the counter variable which keeps track of their remaining guesses\n",
    "   and initialize a variable to keep track of the letters they've guessed already.\n",
    "3. Ask the user for a letter and add it to the list of guessed letters\n",
    "4. If the letter has already been guessed or is not in the word, add one to the counter\n",
    "   and print a message saying they didn't guess a new letter\n",
    "5. Otherwise, congratulate them and print the letters in the word, but only showing the\n",
    "   letters they have guessed.\n",
    "6. If they have guessed all the letters or they have used up all of their guesses end the game\n",
    "7. Otherwise continue the game\n",
    "\n",
    "# Pseudocode\n",
    "The next step is to write the code as a combination of Python and English where the Python\n",
    "captures the \"top-level\" parts of the algorithm.\n",
    "\n",
    "Making this more Python-like we can rewrite it as:\n",
    "```python\n",
    "def play_hangman():\n",
    "    want_to_play = True\n",
    "\n",
    "\n",
    "    while (want_to_play):\n",
    "        guessed_letters = []\n",
    "        guesses_left = 6\n",
    "        word = \"generate a random word\"\n",
    "        letter = \"ask the user for a letter\"\n",
    "        done = False\n",
    "        while not done:\n",
    "            if letter in guessed_letters:\n",
    "                \"subtract one from guesses_left\"\n",
    "                \"and tell them they already guessed that letter\"\n",
    "            elif letter not in word:\n",
    "                \"add letter to guessed letters\"\n",
    "                \"tell user the letter is not in the word\"\n",
    "                \"subtract one from the guesses_left\"\n",
    "            else:\n",
    "                \"add letter to guessed letters\"\n",
    "                \"tell user the letter is in the word\"\n",
    "            if \"all the letters in the word have been guessed\":\n",
    "                \"set done to be true and tell the user they won!\"\n",
    "            elif \"the number of guesses left is zero\":\n",
    "                \"set done to be true and tell the user they lost!\"\n",
    "            else:\n",
    "                \"print the word with a dash for each letter not in guessed_letters\"\n",
    "                letter = \"ask the user for another letter\"\n",
    "        want_to_play = \"ask the user if they want to play another game...\"\n",
    "    \n",
    "```   \n",
    "Some of the pseudo code can be converted directly into python code\n",
    "Other pseudo code should be turned into functions, e.g.\n"
   ]
  },
  {
   "cell_type": "markdown",
   "metadata": {},
   "source": [
    "## Testing\n",
    "Try to trace this program to see if the logic is correct\n",
    "Play a few games and see if we have forgotten anything..."
   ]
  },
  {
   "cell_type": "markdown",
   "metadata": {},
   "source": [
    "## Topdown development\n",
    "Now that we have a highlevel view of the program and have tested it, lets start writing the lowerlevel code.\n",
    "\n",
    "\"generate a random word\" could be a function call \n",
    "```python\n",
    "  word = generate_random_word()\n",
    "```\n",
    "and then you'll need to define the generate_random_word function. The easiest approach is to\n",
    "import the random module and use the random.choice(list) function which returns a random element\n",
    "from the list. Write the code for the generate_random_word function where you just write a list of words, e.g. \n",
    "``` python\n",
    "words = \"dog cat mouse deer snake\".split()\n",
    "```\n",
    "Try writing the generate_random_word function and testing it...\n",
    "Even better is to download a list of English words, read them (as we did for Romeo and Juliet),\n",
    "and then use the random.choice function of the random module to pick a random word from that list."
   ]
  },
  {
   "cell_type": "code",
   "execution_count": 3,
   "metadata": {},
   "outputs": [
    {
     "name": "stdout",
     "output_type": "stream",
     "text": [
      "The randomly chosen word is... hunter\n"
     ]
    }
   ],
   "source": [
    "import random\n",
    "wordslist_demo = \"acres adult advice arrangement attempt August Autumn border breeze brick calm canal Casey cast claws coach constantly contrast cookies customs damage Danny deeply depth discussion doll donkey Egypt Ellen essential exchange exist explanation facing film finest fireplace floating folks fort garage grabbed grandmother habit happily Harry heading hunter Illinois image independent instant January kids label Lee lungs manufacturing Martin mathematics melted memory mill mission monkey Mount mysterious neighborhood Norway nuts occasionally official ourselves palace Pennsylvania Philadelphia plates poetry policeman positive possibly practical pride promised recall relationship remarkable require rhyme rocky rubbed rush sale satellites satisfied scared selection shake shaking shallow shout silly simplest slight slip slope soap solar species spin stiff swung tales thumb tobacco toy trap treated tune University vapor vessels wealth wolf zoo\".split()\n",
    "word_demo = random.choice(wordslist_demo)\n",
    "print(\"The randomly chosen word is...\",word_demo)"
   ]
  },
  {
   "cell_type": "markdown",
   "metadata": {},
   "source": [
    "\"print the word with a dash for each letter not in guessed_letters\"\n",
    "\n",
    "should also be a function, \n",
    "```python\n",
    "print_word(word,guessed_letter)\n",
    "```\n",
    "which prints each letter of the word but prints a dash if the letter has not been guessed.\n",
    "Try writing that function here and testing it."
   ]
  },
  {
   "cell_type": "code",
   "execution_count": 4,
   "metadata": {},
   "outputs": [
    {
     "name": "stdout",
     "output_type": "stream",
     "text": [
      "Guessing h in hello...\n",
      "['h', '-', '-', '-', '-']\n",
      "\n",
      "Guessing f in hello...\n",
      "['-', '-', '-', '-', '-']\n"
     ]
    }
   ],
   "source": [
    "def print_word(word_demo1,letter_guess_demo):\n",
    "    mystery_word3 = list(\"-\"*len(word_demo1))\n",
    "    mystery_word4 = list(word_demo1)\n",
    "    counter_demo = -1\n",
    "    for x in mystery_word4:\n",
    "        counter_demo += 1\n",
    "        if x == letter_guess_demo:\n",
    "            mystery_word3[counter_demo] = mystery_word4[counter_demo]\n",
    "    print(mystery_word3)\n",
    "    \n",
    "print(\"Guessing h in hello...\")\n",
    "print_word(\"hello\",\"h\")\n",
    "print(\"\")\n",
    "print(\"Guessing f in hello...\")\n",
    "print_word(\"hello\",\"f\")\n",
    "    "
   ]
  },
  {
   "cell_type": "markdown",
   "metadata": {},
   "source": [
    "Putting it all together\n",
    "Now try to write the entire play_hangman game with all these pieces.\n"
   ]
  },
  {
   "cell_type": "code",
   "execution_count": 1,
   "metadata": {},
   "outputs": [
    {
     "name": "stdin",
     "output_type": "stream",
     "text": [
      "Would you like to play hangman? Write Y or N y\n"
     ]
    },
    {
     "name": "stdout",
     "output_type": "stream",
     "text": [
      "------------------\n",
      "You have 10 guesses left.\n",
      "['-', '-', '-', '-', '-', '-']\n",
      "Guesses: []\n"
     ]
    },
    {
     "name": "stdin",
     "output_type": "stream",
     "text": [
      "Guess a letter. a\n"
     ]
    },
    {
     "name": "stdout",
     "output_type": "stream",
     "text": [
      "Correct guess!\n",
      "------------------\n",
      "You have 10 guesses left.\n",
      "['-', '-', 'a', '-', '-', '-']\n",
      "Guesses: []\n"
     ]
    },
    {
     "name": "stdin",
     "output_type": "stream",
     "text": [
      "Guess a letter. e\n"
     ]
    },
    {
     "name": "stdout",
     "output_type": "stream",
     "text": [
      "Correct guess!\n",
      "------------------\n",
      "You have 10 guesses left.\n",
      "['-', '-', 'a', '-', 'e', '-']\n",
      "Guesses: []\n"
     ]
    },
    {
     "name": "stdin",
     "output_type": "stream",
     "text": [
      "Guess a letter. i\n"
     ]
    },
    {
     "name": "stdout",
     "output_type": "stream",
     "text": [
      "Try again.\n",
      "------------------\n",
      "You have 9 guesses left.\n",
      "['-', '-', 'a', '-', 'e', '-']\n",
      "Guesses: ['i']\n"
     ]
    },
    {
     "name": "stdin",
     "output_type": "stream",
     "text": [
      "Guess a letter. h\n"
     ]
    },
    {
     "name": "stdout",
     "output_type": "stream",
     "text": [
      "Try again.\n",
      "------------------\n",
      "You have 8 guesses left.\n",
      "['-', '-', 'a', '-', 'e', '-']\n",
      "Guesses: ['i', 'h']\n"
     ]
    },
    {
     "name": "stdin",
     "output_type": "stream",
     "text": [
      "Guess a letter. l\n"
     ]
    },
    {
     "name": "stdout",
     "output_type": "stream",
     "text": [
      "Correct guess!\n",
      "------------------\n",
      "You have 8 guesses left.\n",
      "['-', 'l', 'a', '-', 'e', '-']\n",
      "Guesses: ['i', 'h']\n"
     ]
    },
    {
     "name": "stdin",
     "output_type": "stream",
     "text": [
      "Guess a letter. v\n"
     ]
    },
    {
     "name": "stdout",
     "output_type": "stream",
     "text": [
      "Try again.\n",
      "------------------\n",
      "You have 7 guesses left.\n",
      "['-', 'l', 'a', '-', 'e', '-']\n",
      "Guesses: ['i', 'h', 'v']\n"
     ]
    },
    {
     "name": "stdin",
     "output_type": "stream",
     "text": [
      "Guess a letter. e\n"
     ]
    },
    {
     "name": "stdout",
     "output_type": "stream",
     "text": [
      "Correct guess!\n",
      "------------------\n",
      "You have 7 guesses left.\n",
      "['-', 'l', 'a', '-', 'e', '-']\n",
      "Guesses: ['i', 'h', 'v']\n"
     ]
    },
    {
     "name": "stdin",
     "output_type": "stream",
     "text": [
      "Guess a letter. r\n"
     ]
    },
    {
     "name": "stdout",
     "output_type": "stream",
     "text": [
      "Try again.\n",
      "------------------\n",
      "You have 6 guesses left.\n",
      "['-', 'l', 'a', '-', 'e', '-']\n",
      "Guesses: ['i', 'h', 'v', 'r']\n"
     ]
    },
    {
     "name": "stdin",
     "output_type": "stream",
     "text": [
      "Guess a letter. t\n"
     ]
    },
    {
     "name": "stdout",
     "output_type": "stream",
     "text": [
      "Correct guess!\n",
      "------------------\n",
      "You have 6 guesses left.\n",
      "['-', 'l', 'a', 't', 'e', '-']\n",
      "Guesses: ['i', 'h', 'v', 'r']\n"
     ]
    },
    {
     "name": "stdin",
     "output_type": "stream",
     "text": [
      "Guess a letter. y\n"
     ]
    },
    {
     "name": "stdout",
     "output_type": "stream",
     "text": [
      "Try again.\n",
      "------------------\n",
      "You have 5 guesses left.\n",
      "['-', 'l', 'a', 't', 'e', '-']\n",
      "Guesses: ['i', 'h', 'v', 'r', 'y']\n"
     ]
    },
    {
     "name": "stdin",
     "output_type": "stream",
     "text": [
      "Guess a letter. u\n"
     ]
    },
    {
     "name": "stdout",
     "output_type": "stream",
     "text": [
      "Try again.\n",
      "------------------\n",
      "You have 4 guesses left.\n",
      "['-', 'l', 'a', 't', 'e', '-']\n",
      "Guesses: ['i', 'h', 'v', 'r', 'y', 'u']\n"
     ]
    },
    {
     "name": "stdin",
     "output_type": "stream",
     "text": [
      "Guess a letter. f\n"
     ]
    },
    {
     "name": "stdout",
     "output_type": "stream",
     "text": [
      "Try again.\n",
      "------------------\n",
      "You have 3 guesses left.\n",
      "['-', 'l', 'a', 't', 'e', '-']\n",
      "Guesses: ['i', 'h', 'v', 'r', 'y', 'u', 'f']\n"
     ]
    },
    {
     "name": "stdin",
     "output_type": "stream",
     "text": [
      "Guess a letter. x\n"
     ]
    },
    {
     "name": "stdout",
     "output_type": "stream",
     "text": [
      "Try again.\n",
      "------------------\n",
      "You have 2 guesses left.\n",
      "['-', 'l', 'a', 't', 'e', '-']\n",
      "Guesses: ['i', 'h', 'v', 'r', 'y', 'u', 'f', 'x']\n"
     ]
    },
    {
     "name": "stdin",
     "output_type": "stream",
     "text": [
      "Guess a letter. a\n"
     ]
    },
    {
     "name": "stdout",
     "output_type": "stream",
     "text": [
      "Correct guess!\n",
      "------------------\n",
      "You have 2 guesses left.\n",
      "['-', 'l', 'a', 't', 'e', '-']\n",
      "Guesses: ['i', 'h', 'v', 'r', 'y', 'u', 'f', 'x']\n"
     ]
    },
    {
     "name": "stdin",
     "output_type": "stream",
     "text": [
      "Guess a letter. g\n"
     ]
    },
    {
     "name": "stdout",
     "output_type": "stream",
     "text": [
      "Try again.\n",
      "------------------\n",
      "You have 1 guesses left.\n",
      "['-', 'l', 'a', 't', 'e', '-']\n",
      "Guesses: ['i', 'h', 'v', 'r', 'y', 'u', 'f', 'x', 'g']\n"
     ]
    },
    {
     "name": "stdin",
     "output_type": "stream",
     "text": [
      "Guess a letter. h\n"
     ]
    },
    {
     "name": "stdout",
     "output_type": "stream",
     "text": [
      "Please guess a new letter.\n",
      "------------------\n",
      "You have 1 guesses left.\n",
      "['-', 'l', 'a', 't', 'e', '-']\n",
      "Guesses: ['i', 'h', 'v', 'r', 'y', 'u', 'f', 'x', 'g']\n"
     ]
    },
    {
     "name": "stdin",
     "output_type": "stream",
     "text": [
      "Guess a letter. j\n"
     ]
    },
    {
     "name": "stdout",
     "output_type": "stream",
     "text": [
      "Try again.\n",
      "------------------\n",
      "Sorry, you lose.\n",
      "The word was... plates!\n",
      "You can play again if you want.\n",
      "------------------\n"
     ]
    },
    {
     "name": "stdin",
     "output_type": "stream",
     "text": [
      "Would you like to play hangman? Write Y or N n\n"
     ]
    },
    {
     "name": "stdout",
     "output_type": "stream",
     "text": [
      "Goodbye!\n"
     ]
    }
   ],
   "source": [
    "import random\n",
    "wordslist = \"acres adult advice arrangement attempt August Autumn border breeze brick calm canal Casey cast claws coach constantly contrast cookies customs damage Danny deeply depth discussion doll donkey Egypt Ellen essential exchange exist explanation facing film finest fireplace floating folks fort garage grabbed grandmother habit happily Harry heading hunter Illinois image independent instant January kids label Lee lungs manufacturing Martin mathematics melted memory mill mission monkey Mount mysterious neighborhood Norway nuts occasionally official ourselves palace Pennsylvania Philadelphia plates poetry policeman positive possibly practical pride promised recall relationship remarkable require rhyme rocky rubbed rush sale satellites satisfied scared selection shake shaking shallow shout silly simplest slight slip slope soap solar species spin stiff swung tales thumb tobacco toy trap treated tune University vapor vessels wealth wolf zoo\".split()\n",
    "\n",
    "def play_hangman(word):\n",
    "    word = word.lower()\n",
    "    guessed_letters = []\n",
    "    guesses_left = 10\n",
    "    done = True\n",
    "    mystery_word = list(\"-\"*len(word))\n",
    "    mystery_word1 = list(word)\n",
    "    while done == True:\n",
    "        print(\"------------------\")\n",
    "        if \"-\" not in mystery_word:\n",
    "            print(\"You win! Great job.\")\n",
    "            print(\"You correctly guessed\",word,end=\"\")\n",
    "            print(\"!\")\n",
    "            print(\"You can play again if you want.\")\n",
    "            print(\"------------------\")\n",
    "            return\n",
    "        if guesses_left == 0:\n",
    "            print(\"Sorry, you lose.\")\n",
    "            print(\"The word was...\",word,end=\"\")\n",
    "            print(\"!\")\n",
    "            print(\"You can play again if you want.\")\n",
    "            print(\"------------------\")\n",
    "            return\n",
    "        print(\"You have\", guesses_left, \"guesses left.\")\n",
    "        print(mystery_word)\n",
    "        print(\"Guesses:\",guessed_letters)\n",
    "        letter_guess = input(\"Guess a letter.\")\n",
    "        letter_guess = letter_guess.lower()\n",
    "        if len(letter_guess) != 1:\n",
    "            print(\"Please guess 1 new letter.\")\n",
    "            continue\n",
    "        elif letter_guess not in \"qwertyuiopasdfghjklzxcvbnm\":\n",
    "            print(\"Please guess a letter.\")\n",
    "            continue\n",
    "        elif letter_guess in guessed_letters:\n",
    "            print(\"Please guess a new letter.\")\n",
    "            continue\n",
    "        else:\n",
    "            if letter_guess in word:\n",
    "                print(\"Correct guess!\")\n",
    "                counter = -1\n",
    "                for x in mystery_word1:\n",
    "                    counter += 1\n",
    "                    if x == letter_guess:\n",
    "                        mystery_word[counter] = mystery_word1[counter]\n",
    "                continue\n",
    "            elif letter_guess not in word:\n",
    "                print(\"Try again.\")\n",
    "                guesses_left = guesses_left - 1\n",
    "                guessed_letters.append(letter_guess)\n",
    "                continue\n",
    "                \n",
    "            \n",
    "\n",
    "start = True\n",
    "while start == True:\n",
    "    want_to_play = input(\"Would you like to play hangman? Write Y or N\")\n",
    "    want_to_play = want_to_play.lower()\n",
    "    if want_to_play == \"y\":\n",
    "        play_hangman(random.choice(wordslist))\n",
    "        continue\n",
    "    elif want_to_play == \"n\":\n",
    "        break\n",
    "    else:\n",
    "        want_to_play = print(\"Please enter a valid answer.\")\n",
    "        continue\n",
    "print(\"Goodbye!\")"
   ]
  },
  {
   "cell_type": "code",
   "execution_count": null,
   "metadata": {},
   "outputs": [],
   "source": []
  }
 ],
 "metadata": {
  "kernelspec": {
   "display_name": "Python 3",
   "language": "python",
   "name": "python3"
  },
  "language_info": {
   "codemirror_mode": {
    "name": "ipython",
    "version": 3
   },
   "file_extension": ".py",
   "mimetype": "text/x-python",
   "name": "python",
   "nbconvert_exporter": "python",
   "pygments_lexer": "ipython3",
   "version": "3.7.6"
  }
 },
 "nbformat": 4,
 "nbformat_minor": 4
}
